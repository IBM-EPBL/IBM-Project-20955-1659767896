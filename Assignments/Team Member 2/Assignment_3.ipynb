{
 "cells": [
  {
   "cell_type": "markdown",
   "id": "a8f5bd27",
   "metadata": {},
   "source": [
    "# Image Augmentation"
   ]
  },
  {
   "cell_type": "code",
   "execution_count": 1,
   "id": "2c5d5425",
   "metadata": {},
   "outputs": [],
   "source": [
    "# importing lib\n",
    "from tensorflow.keras.preprocessing.image import ImageDataGenerator"
   ]
  },
  {
   "cell_type": "code",
   "execution_count": 2,
   "id": "b26e74d5",
   "metadata": {},
   "outputs": [],
   "source": [
    "# creating train and test variable\n",
    "data_train = ImageDataGenerator(rescale = 1./255,shear_range=0.2,zoom_range=0.2,horizontal_flip=True,vertical_flip=True)\n",
    "data_test = ImageDataGenerator(rescale=1./255)"
   ]
  },
  {
   "cell_type": "code",
   "execution_count": 3,
   "id": "a71e8457",
   "metadata": {},
   "outputs": [
    {
     "name": "stdout",
     "output_type": "stream",
     "text": [
      "Found 3425 images belonging to 5 classes.\n"
     ]
    }
   ],
   "source": [
    "# Loading the training datas\n",
    "flow_train = data_train.flow_from_directory(r\"C:\\Users\\ELCOT\\Desktop\\IBM\\ai assignments\\Week 3\\flowers\\Training\",\n",
    "                                            target_size=(76,76),batch_size=50,class_mode=\"categorical\")"
   ]
  },
  {
   "cell_type": "code",
   "execution_count": 4,
   "id": "5188d37a",
   "metadata": {},
   "outputs": [
    {
     "name": "stdout",
     "output_type": "stream",
     "text": [
      "Found 892 images belonging to 5 classes.\n"
     ]
    }
   ],
   "source": [
    "# Loading the testing datas\n",
    "flow_test = data_test.flow_from_directory(r\"C:\\Users\\ELCOT\\Desktop\\IBM\\ai assignments\\Week 3\\flowers\\Testing\",\n",
    "                                            target_size=(76,76),batch_size=50,class_mode=\"categorical\")"
   ]
  },
  {
   "cell_type": "code",
   "execution_count": 5,
   "id": "79415b24",
   "metadata": {},
   "outputs": [
    {
     "data": {
      "text/plain": [
       "{'daisy': 0, 'dandelion': 1, 'rose': 2, 'sunflower': 3, 'tulip': 4}"
      ]
     },
     "execution_count": 5,
     "metadata": {},
     "output_type": "execute_result"
    }
   ],
   "source": [
    "flow_train.class_indices"
   ]
  },
  {
   "cell_type": "markdown",
   "id": "1c80d7e2",
   "metadata": {},
   "source": [
    "# Creating the CNN model"
   ]
  },
  {
   "cell_type": "code",
   "execution_count": 6,
   "id": "1ddbc9b8",
   "metadata": {},
   "outputs": [],
   "source": [
    "# importing libraries\n",
    "from tensorflow.keras.models import Sequential\n",
    "from tensorflow.keras.layers import Dense,Convolution2D,MaxPooling2D,Flatten"
   ]
  },
  {
   "cell_type": "code",
   "execution_count": 7,
   "id": "467c8b1d",
   "metadata": {},
   "outputs": [],
   "source": [
    "# Creating the model and adding the layers.\n",
    "model = Sequential()\n",
    "model.add(Convolution2D(32,(3,3),activation='relu',input_shape=(76,76,3)))\n",
    "model.add(MaxPooling2D(pool_size=(2, 2)))\n",
    "model.add(Flatten())\n",
    "model.add(Dense(500,activation='relu'))\n",
    "model.add(Dense(300,activation='relu'))\n",
    "model.add(Dense(5,activation='softmax'))"
   ]
  },
  {
   "cell_type": "code",
   "execution_count": 8,
   "id": "a2c2cd12",
   "metadata": {},
   "outputs": [],
   "source": [
    "# compiling the model\n",
    "model.compile(loss=\"categorical_crossentropy\",optimizer=\"adam\",metrics=[\"accuracy\"])"
   ]
  },
  {
   "cell_type": "code",
   "execution_count": 9,
   "id": "6c2a2f76",
   "metadata": {},
   "outputs": [
    {
     "name": "stderr",
     "output_type": "stream",
     "text": [
      "C:\\Users\\ELCOT\\AppData\\Local\\Temp\\ipykernel_8520\\1600986557.py:4: UserWarning: `Model.fit_generator` is deprecated and will be removed in a future version. Please use `Model.fit`, which supports generators.\n",
      "  model.fit_generator(flow_train,steps_per_epoch=69,epochs=50,validation_data=flow_test,validation_steps=18)\n"
     ]
    },
    {
     "name": "stdout",
     "output_type": "stream",
     "text": [
      "Epoch 1/50\n",
      "69/69 [==============================] - 162s 2s/step - loss: 1.9275 - accuracy: 0.3764 - val_loss: 1.1868 - val_accuracy: 0.5112\n",
      "Epoch 2/50\n",
      "69/69 [==============================] - 78s 1s/step - loss: 1.1382 - accuracy: 0.5349 - val_loss: 1.0796 - val_accuracy: 0.5729\n",
      "Epoch 3/50\n",
      "69/69 [==============================] - 78s 1s/step - loss: 1.0374 - accuracy: 0.5874 - val_loss: 1.0456 - val_accuracy: 0.5908\n",
      "Epoch 4/50\n",
      "69/69 [==============================] - 154s 2s/step - loss: 0.9824 - accuracy: 0.6117 - val_loss: 0.9965 - val_accuracy: 0.6256\n",
      "Epoch 5/50\n",
      "69/69 [==============================] - 122s 2s/step - loss: 0.9386 - accuracy: 0.6286 - val_loss: 1.0005 - val_accuracy: 0.6289\n",
      "Epoch 6/50\n",
      "69/69 [==============================] - 132s 2s/step - loss: 0.8834 - accuracy: 0.6587 - val_loss: 0.9656 - val_accuracy: 0.6424\n",
      "Epoch 7/50\n",
      "69/69 [==============================] - 104s 2s/step - loss: 0.8625 - accuracy: 0.6695 - val_loss: 1.1082 - val_accuracy: 0.5897\n",
      "Epoch 8/50\n",
      "69/69 [==============================] - 125s 2s/step - loss: 0.8233 - accuracy: 0.6777 - val_loss: 0.9981 - val_accuracy: 0.6446\n",
      "Epoch 9/50\n",
      "69/69 [==============================] - 100s 1s/step - loss: 0.8133 - accuracy: 0.6885 - val_loss: 1.0385 - val_accuracy: 0.6278\n",
      "Epoch 10/50\n",
      "69/69 [==============================] - 99s 1s/step - loss: 0.7660 - accuracy: 0.7016 - val_loss: 0.9498 - val_accuracy: 0.6525\n",
      "Epoch 11/50\n",
      "69/69 [==============================] - 98s 1s/step - loss: 0.7307 - accuracy: 0.7171 - val_loss: 1.1173 - val_accuracy: 0.6312\n",
      "Epoch 12/50\n",
      "69/69 [==============================] - 86s 1s/step - loss: 0.7254 - accuracy: 0.7250 - val_loss: 1.0093 - val_accuracy: 0.6491\n",
      "Epoch 13/50\n",
      "69/69 [==============================] - 78s 1s/step - loss: 0.6833 - accuracy: 0.7436 - val_loss: 1.0277 - val_accuracy: 0.6525\n",
      "Epoch 14/50\n",
      "69/69 [==============================] - 80s 1s/step - loss: 0.6466 - accuracy: 0.7568 - val_loss: 1.0218 - val_accuracy: 0.6413\n",
      "Epoch 15/50\n",
      "69/69 [==============================] - 77s 1s/step - loss: 0.6403 - accuracy: 0.7556 - val_loss: 0.9543 - val_accuracy: 0.6581\n",
      "Epoch 16/50\n",
      "69/69 [==============================] - 78s 1s/step - loss: 0.6074 - accuracy: 0.7699 - val_loss: 1.0076 - val_accuracy: 0.6401\n",
      "Epoch 17/50\n",
      "69/69 [==============================] - 78s 1s/step - loss: 0.5867 - accuracy: 0.7705 - val_loss: 1.1523 - val_accuracy: 0.6289\n",
      "Epoch 18/50\n",
      "69/69 [==============================] - 77s 1s/step - loss: 0.5964 - accuracy: 0.7734 - val_loss: 1.0637 - val_accuracy: 0.6401\n",
      "Epoch 19/50\n",
      "69/69 [==============================] - 78s 1s/step - loss: 0.5741 - accuracy: 0.7819 - val_loss: 1.1306 - val_accuracy: 0.6525\n",
      "Epoch 20/50\n",
      "69/69 [==============================] - 82s 1s/step - loss: 0.5560 - accuracy: 0.7889 - val_loss: 1.1092 - val_accuracy: 0.6570\n",
      "Epoch 21/50\n",
      "69/69 [==============================] - 78s 1s/step - loss: 0.5181 - accuracy: 0.8070 - val_loss: 1.1765 - val_accuracy: 0.6379\n",
      "Epoch 22/50\n",
      "69/69 [==============================] - 78s 1s/step - loss: 0.4961 - accuracy: 0.8187 - val_loss: 1.0951 - val_accuracy: 0.6457\n",
      "Epoch 23/50\n",
      "69/69 [==============================] - 79s 1s/step - loss: 0.4821 - accuracy: 0.8242 - val_loss: 1.1983 - val_accuracy: 0.6603\n",
      "Epoch 24/50\n",
      "69/69 [==============================] - 79s 1s/step - loss: 0.4805 - accuracy: 0.8155 - val_loss: 1.1427 - val_accuracy: 0.6839\n",
      "Epoch 25/50\n",
      "69/69 [==============================] - 79s 1s/step - loss: 0.4423 - accuracy: 0.8333 - val_loss: 1.2701 - val_accuracy: 0.6188\n",
      "Epoch 26/50\n",
      "69/69 [==============================] - 81s 1s/step - loss: 0.4378 - accuracy: 0.8362 - val_loss: 1.1487 - val_accuracy: 0.6794\n",
      "Epoch 27/50\n",
      "69/69 [==============================] - 79s 1s/step - loss: 0.4103 - accuracy: 0.8470 - val_loss: 1.1506 - val_accuracy: 0.6771\n",
      "Epoch 28/50\n",
      "69/69 [==============================] - 78s 1s/step - loss: 0.3976 - accuracy: 0.8511 - val_loss: 1.3064 - val_accuracy: 0.6334\n",
      "Epoch 29/50\n",
      "69/69 [==============================] - 82s 1s/step - loss: 0.4163 - accuracy: 0.8482 - val_loss: 1.2574 - val_accuracy: 0.6525\n",
      "Epoch 30/50\n",
      "69/69 [==============================] - 79s 1s/step - loss: 0.3895 - accuracy: 0.8517 - val_loss: 1.1821 - val_accuracy: 0.6682\n",
      "Epoch 31/50\n",
      "69/69 [==============================] - 80s 1s/step - loss: 0.3592 - accuracy: 0.8718 - val_loss: 1.2520 - val_accuracy: 0.6558\n",
      "Epoch 32/50\n",
      "69/69 [==============================] - 86s 1s/step - loss: 0.3455 - accuracy: 0.8739 - val_loss: 1.3393 - val_accuracy: 0.6413\n",
      "Epoch 33/50\n",
      "69/69 [==============================] - 78s 1s/step - loss: 0.3478 - accuracy: 0.8727 - val_loss: 1.2693 - val_accuracy: 0.6726\n",
      "Epoch 34/50\n",
      "69/69 [==============================] - 78s 1s/step - loss: 0.3398 - accuracy: 0.8759 - val_loss: 1.2033 - val_accuracy: 0.6850\n",
      "Epoch 35/50\n",
      "69/69 [==============================] - 90s 1s/step - loss: 0.3322 - accuracy: 0.8867 - val_loss: 1.5338 - val_accuracy: 0.6289\n",
      "Epoch 36/50\n",
      "69/69 [==============================] - 162s 2s/step - loss: 0.3044 - accuracy: 0.8864 - val_loss: 1.3834 - val_accuracy: 0.6637\n",
      "Epoch 37/50\n",
      "69/69 [==============================] - 176s 3s/step - loss: 0.2969 - accuracy: 0.8905 - val_loss: 1.3572 - val_accuracy: 0.6513\n",
      "Epoch 38/50\n",
      "69/69 [==============================] - 89s 1s/step - loss: 0.2989 - accuracy: 0.8908 - val_loss: 1.3040 - val_accuracy: 0.6513\n",
      "Epoch 39/50\n",
      "69/69 [==============================] - 124s 2s/step - loss: 0.2741 - accuracy: 0.9004 - val_loss: 1.5087 - val_accuracy: 0.6570\n",
      "Epoch 40/50\n",
      "69/69 [==============================] - 145s 2s/step - loss: 0.2665 - accuracy: 0.9077 - val_loss: 1.4363 - val_accuracy: 0.6525\n",
      "Epoch 41/50\n",
      "69/69 [==============================] - 102s 1s/step - loss: 0.2898 - accuracy: 0.9036 - val_loss: 1.6245 - val_accuracy: 0.6312\n",
      "Epoch 42/50\n",
      "69/69 [==============================] - 101s 1s/step - loss: 0.2870 - accuracy: 0.9001 - val_loss: 1.4764 - val_accuracy: 0.6558\n",
      "Epoch 43/50\n",
      "69/69 [==============================] - 100s 1s/step - loss: 0.2651 - accuracy: 0.9066 - val_loss: 1.4063 - val_accuracy: 0.6480\n",
      "Epoch 44/50\n",
      "69/69 [==============================] - 98s 1s/step - loss: 0.2494 - accuracy: 0.9127 - val_loss: 1.4936 - val_accuracy: 0.6558\n",
      "Epoch 45/50\n",
      "69/69 [==============================] - 80s 1s/step - loss: 0.2484 - accuracy: 0.9133 - val_loss: 1.4985 - val_accuracy: 0.6760\n",
      "Epoch 46/50\n",
      "69/69 [==============================] - 80s 1s/step - loss: 0.2391 - accuracy: 0.9177 - val_loss: 1.5672 - val_accuracy: 0.6659\n",
      "Epoch 47/50\n",
      "69/69 [==============================] - 80s 1s/step - loss: 0.2262 - accuracy: 0.9147 - val_loss: 1.5685 - val_accuracy: 0.6256\n",
      "Epoch 48/50\n",
      "69/69 [==============================] - 78s 1s/step - loss: 0.2139 - accuracy: 0.9302 - val_loss: 1.4327 - val_accuracy: 0.6648\n",
      "Epoch 49/50\n",
      "69/69 [==============================] - 78s 1s/step - loss: 0.1959 - accuracy: 0.9267 - val_loss: 1.8080 - val_accuracy: 0.6704\n",
      "Epoch 50/50\n",
      "69/69 [==============================] - 79s 1s/step - loss: 0.2151 - accuracy: 0.9220 - val_loss: 1.5475 - val_accuracy: 0.6603\n"
     ]
    },
    {
     "data": {
      "text/plain": [
       "<keras.callbacks.History at 0x1f89e06d5e0>"
      ]
     },
     "execution_count": 9,
     "metadata": {},
     "output_type": "execute_result"
    }
   ],
   "source": [
    "# training the model\n",
    "# s_p_e = (3425/50) --> 69\n",
    "# v_s = (892/50) --> 18\n",
    "model.fit_generator(flow_train,steps_per_epoch=69,epochs=50,validation_data=flow_test,validation_steps=18)"
   ]
  },
  {
   "cell_type": "code",
   "execution_count": 10,
   "id": "3e8aaa2d",
   "metadata": {},
   "outputs": [],
   "source": [
    "# saving the model\n",
    "model.save(\"flower.h5\")"
   ]
  },
  {
   "cell_type": "markdown",
   "id": "d303807f",
   "metadata": {},
   "source": [
    "# Testing the model"
   ]
  },
  {
   "cell_type": "code",
   "execution_count": 34,
   "id": "87167f4b",
   "metadata": {},
   "outputs": [],
   "source": [
    "# importing libraries\n",
    "from tensorflow.keras.preprocessing import image\n",
    "import numpy as np"
   ]
  },
  {
   "cell_type": "code",
   "execution_count": 35,
   "id": "2aa709f1",
   "metadata": {},
   "outputs": [],
   "source": [
    "# Let's test each class with one or two pic"
   ]
  },
  {
   "cell_type": "code",
   "execution_count": 36,
   "id": "161064ba",
   "metadata": {},
   "outputs": [
    {
     "name": "stdout",
     "output_type": "stream",
     "text": [
      "1/1 [==============================] - 0s 104ms/step\n"
     ]
    },
    {
     "data": {
      "text/plain": [
       "'daisy'"
      ]
     },
     "execution_count": 36,
     "metadata": {},
     "output_type": "execute_result"
    }
   ],
   "source": [
    "#first testing the daisy class -- 01\n",
    "img = image.load_img(r\"C:\\Users\\ELCOT\\Desktop\\IBM\\ai assignments\\Week 3\\flowers/dai1.jpg\",target_size=(76,76))\n",
    "x = image.img_to_array(img)\n",
    "x = np.expand_dims(x,axis=0)\n",
    "pred_prob = model.predict(x)\n",
    "class_name = ['daisy', 'dandelion', 'rose', 'sunflower', 'tulip']\n",
    "pred_id = pred_prob.argmax(axis=1)[0]\n",
    "class_name[pred_id]"
   ]
  },
  {
   "cell_type": "code",
   "execution_count": 37,
   "id": "98502af4",
   "metadata": {},
   "outputs": [
    {
     "name": "stdout",
     "output_type": "stream",
     "text": [
      "1/1 [==============================] - 0s 118ms/step\n"
     ]
    },
    {
     "data": {
      "text/plain": [
       "'daisy'"
      ]
     },
     "execution_count": 37,
     "metadata": {},
     "output_type": "execute_result"
    }
   ],
   "source": [
    "#first testing the daisy class -- 02\n",
    "img = image.load_img(r\"C:\\Users\\ELCOT\\Desktop\\IBM\\ai assignments\\Week 3\\flowers/dai2.jpg\",target_size=(76,76))\n",
    "x = image.img_to_array(img)\n",
    "x = np.expand_dims(x,axis=0)\n",
    "pred_prob = model.predict(x)\n",
    "class_name = ['daisy', 'dandelion', 'rose', 'sunflower', 'tulip']\n",
    "pred_id = pred_prob.argmax(axis=1)[0]\n",
    "class_name[pred_id]"
   ]
  },
  {
   "cell_type": "code",
   "execution_count": 38,
   "id": "4474794c",
   "metadata": {},
   "outputs": [
    {
     "name": "stdout",
     "output_type": "stream",
     "text": [
      "1/1 [==============================] - 0s 59ms/step\n"
     ]
    },
    {
     "data": {
      "text/plain": [
       "'dandelion'"
      ]
     },
     "execution_count": 38,
     "metadata": {},
     "output_type": "execute_result"
    }
   ],
   "source": [
    "#second testing the dandelion class -- 01\n",
    "img = image.load_img(r\"C:\\Users\\ELCOT\\Desktop\\IBM\\ai assignments\\Week 3\\flowers/dan1.jpg\",target_size=(76,76))\n",
    "x = image.img_to_array(img)\n",
    "x = np.expand_dims(x,axis=0)\n",
    "pred_prob = model.predict(x)\n",
    "class_name = ['daisy', 'dandelion', 'rose', 'sunflower', 'tulip']\n",
    "pred_id = pred_prob.argmax(axis=1)[0]\n",
    "class_name[pred_id]"
   ]
  },
  {
   "cell_type": "code",
   "execution_count": 39,
   "id": "58ec8ab3",
   "metadata": {},
   "outputs": [
    {
     "name": "stdout",
     "output_type": "stream",
     "text": [
      "1/1 [==============================] - 0s 279ms/step\n"
     ]
    },
    {
     "data": {
      "text/plain": [
       "'sunflower'"
      ]
     },
     "execution_count": 39,
     "metadata": {},
     "output_type": "execute_result"
    }
   ],
   "source": [
    "#second testing the dandelion class -- 02\n",
    "img = image.load_img(r\"C:\\Users\\ELCOT\\Desktop\\IBM\\ai assignments\\Week 3\\flowers/dan2.jpg\",target_size=(76,76))\n",
    "x = image.img_to_array(img)\n",
    "x = np.expand_dims(x,axis=0)\n",
    "pred_prob = model.predict(x)\n",
    "class_name = ['daisy', 'dandelion', 'rose', 'sunflower', 'tulip']\n",
    "pred_id = pred_prob.argmax(axis=1)[0]\n",
    "class_name[pred_id]"
   ]
  },
  {
   "cell_type": "code",
   "execution_count": 40,
   "id": "3d2d90bc",
   "metadata": {},
   "outputs": [],
   "source": [
    "# The above prediction shows wrong answer \n",
    "# because there is some pics that are not available in the dataset so it assumes and predict as different image"
   ]
  },
  {
   "cell_type": "code",
   "execution_count": 41,
   "id": "0a4f837c",
   "metadata": {},
   "outputs": [
    {
     "name": "stdout",
     "output_type": "stream",
     "text": [
      "1/1 [==============================] - 0s 100ms/step\n"
     ]
    },
    {
     "data": {
      "text/plain": [
       "'rose'"
      ]
     },
     "execution_count": 41,
     "metadata": {},
     "output_type": "execute_result"
    }
   ],
   "source": [
    "#third testing the rode class\n",
    "img = image.load_img(r\"C:\\Users\\ELCOT\\Desktop\\IBM\\ai assignments\\Week 3\\flowers/rose1.jpg\",target_size=(76,76))\n",
    "x = image.img_to_array(img)\n",
    "x = np.expand_dims(x,axis=0)\n",
    "pred_prob = model.predict(x)\n",
    "class_name = ['daisy', 'dandelion', 'rose', 'sunflower', 'tulip']\n",
    "pred_id = pred_prob.argmax(axis=1)[0]\n",
    "class_name[pred_id]"
   ]
  },
  {
   "cell_type": "code",
   "execution_count": 42,
   "id": "bd1cce69",
   "metadata": {},
   "outputs": [
    {
     "name": "stdout",
     "output_type": "stream",
     "text": [
      "1/1 [==============================] - 0s 61ms/step\n"
     ]
    },
    {
     "data": {
      "text/plain": [
       "'sunflower'"
      ]
     },
     "execution_count": 42,
     "metadata": {},
     "output_type": "execute_result"
    }
   ],
   "source": [
    "#forth testing the sunflower class\n",
    "img = image.load_img(r\"C:\\Users\\ELCOT\\Desktop\\IBM\\ai assignments\\Week 3\\flowers/sun1.jpg\",target_size=(76,76))\n",
    "x = image.img_to_array(img)\n",
    "x = np.expand_dims(x,axis=0)\n",
    "pred_prob = model.predict(x)\n",
    "class_name = ['daisy', 'dandelion', 'rose', 'sunflower', 'tulip']\n",
    "pred_id = pred_prob.argmax(axis=1)[0]\n",
    "class_name[pred_id]"
   ]
  },
  {
   "cell_type": "code",
   "execution_count": 43,
   "id": "4d3f40c1",
   "metadata": {},
   "outputs": [
    {
     "name": "stdout",
     "output_type": "stream",
     "text": [
      "1/1 [==============================] - 0s 71ms/step\n"
     ]
    },
    {
     "data": {
      "text/plain": [
       "'tulip'"
      ]
     },
     "execution_count": 43,
     "metadata": {},
     "output_type": "execute_result"
    }
   ],
   "source": [
    "#fifth testing the tulip class\n",
    "img = image.load_img(r\"C:\\Users\\ELCOT\\Desktop\\IBM\\ai assignments\\Week 3\\flowers/tul1.jpg\",target_size=(76,76))\n",
    "x = image.img_to_array(img)\n",
    "x = np.expand_dims(x,axis=0)\n",
    "pred_prob = model.predict(x)\n",
    "class_name = ['daisy', 'dandelion', 'rose', 'sunflower', 'tulip']\n",
    "pred_id = pred_prob.argmax(axis=1)[0]\n",
    "class_name[pred_id]"
   ]
  },
  {
   "cell_type": "code",
   "execution_count": 44,
   "id": "69b690c6",
   "metadata": {},
   "outputs": [],
   "source": [
    "# So as finally we have tested the model, but some of the pictures will shows wrong answer if we are getting the\n",
    "# images from online, because the dataset is limited so not every pic type is not added. It is difficult to predict\n",
    "# different images from online.\n"
   ]
  }
 ],
 "metadata": {
  "kernelspec": {
   "display_name": "Python 3 (ipykernel)",
   "language": "python",
   "name": "python3"
  },
  "language_info": {
   "codemirror_mode": {
    "name": "ipython",
    "version": 3
   },
   "file_extension": ".py",
   "mimetype": "text/x-python",
   "name": "python",
   "nbconvert_exporter": "python",
   "pygments_lexer": "ipython3",
   "version": "3.9.12"
  }
 },
 "nbformat": 4,
 "nbformat_minor": 5
}
